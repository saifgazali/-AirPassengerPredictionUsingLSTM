{
 "cells": [
  {
   "cell_type": "code",
   "execution_count": 46,
   "metadata": {},
   "outputs": [],
   "source": [
    "import numpy as np\n",
    "import pandas as pd\n",
    "import matplotlib.pyplot as plt\n",
    "from sklearn.preprocessing import StandardScaler,MinMaxScaler\n",
    "from tensorflow.keras import Sequential\n",
    "from tensorflow.keras.layers import Dense,LSTM,Dropout"
   ]
  },
  {
   "cell_type": "code",
   "execution_count": 47,
   "metadata": {},
   "outputs": [],
   "source": [
    "data = pd.read_csv('AirPassengers.csv')"
   ]
  },
  {
   "cell_type": "code",
   "execution_count": 48,
   "metadata": {},
   "outputs": [],
   "source": [
    "data = data['#Passengers']"
   ]
  },
  {
   "cell_type": "code",
   "execution_count": 49,
   "metadata": {},
   "outputs": [
    {
     "data": {
      "text/plain": [
       "array([112, 118, 132, 129, 121, 135, 148, 148, 136, 119, 104, 118, 115,\n",
       "       126, 141, 135, 125, 149, 170, 170, 158, 133, 114, 140, 145, 150,\n",
       "       178, 163, 172, 178, 199, 199, 184, 162, 146, 166, 171, 180, 193,\n",
       "       181, 183, 218, 230, 242, 209, 191, 172, 194, 196, 196, 236, 235,\n",
       "       229, 243, 264, 272, 237, 211, 180, 201, 204, 188, 235, 227, 234,\n",
       "       264, 302, 293, 259, 229, 203, 229, 242, 233, 267, 269, 270, 315,\n",
       "       364, 347, 312, 274, 237, 278, 284, 277, 317, 313, 318, 374, 413,\n",
       "       405, 355, 306, 271, 306, 315, 301, 356, 348, 355, 422, 465, 467,\n",
       "       404, 347, 305, 336, 340, 318, 362, 348, 363, 435, 491, 505, 404,\n",
       "       359, 310, 337, 360, 342, 406, 396, 420, 472, 548, 559, 463, 407,\n",
       "       362, 405, 417, 391, 419, 461, 472, 535, 622, 606, 508, 461, 390,\n",
       "       432], dtype=int64)"
      ]
     },
     "execution_count": 49,
     "metadata": {},
     "output_type": "execute_result"
    }
   ],
   "source": [
    "data = np.array(data)\n",
    "data"
   ]
  },
  {
   "cell_type": "code",
   "execution_count": 50,
   "metadata": {},
   "outputs": [],
   "source": [
    "data = data.reshape(-1,1)"
   ]
  },
  {
   "cell_type": "code",
   "execution_count": 51,
   "metadata": {},
   "outputs": [
    {
     "data": {
      "text/plain": [
       "[<matplotlib.lines.Line2D at 0x14acef04190>]"
      ]
     },
     "execution_count": 51,
     "metadata": {},
     "output_type": "execute_result"
    },
    {
     "data": {
      "image/png": "[encoded data removed]",
      "text/plain": [
       "<Figure size 432x288 with 1 Axes>"
      ]
     },
     "metadata": {
      "needs_background": "light"
     },
     "output_type": "display_data"
    }
   ],
   "source": [
    "plt.plot(data)"
   ]
  },
  {
   "cell_type": "code",
   "execution_count": 52,
   "metadata": {},
   "outputs": [],
   "source": [
    "scalar = MinMaxScaler()\n",
    "data = scalar.fit_transform(data)"
   ]
  },
  {
   "cell_type": "code",
   "execution_count": 53,
   "metadata": {},
   "outputs": [
    {
     "data": {
      "text/plain": [
       "(144, 1)"
      ]
     },
     "execution_count": 53,
     "metadata": {},
     "output_type": "execute_result"
    }
   ],
   "source": [
    "data.shape"
   ]
  },
  {
   "cell_type": "code",
   "execution_count": 54,
   "metadata": {},
   "outputs": [],
   "source": [
    "train_size = 100\n",
    "test_size = 44"
   ]
  },
  {
   "cell_type": "code",
   "execution_count": 55,
   "metadata": {},
   "outputs": [],
   "source": [
    "train = data[:train_size,:]\n",
    "test = data[train_size:len(data),:]"
   ]
  },
  {
   "cell_type": "code",
   "execution_count": 56,
   "metadata": {},
   "outputs": [
    {
     "name": "stdout",
     "output_type": "stream",
     "text": [
      "(100, 1)\n",
      "(44, 1)\n"
     ]
    }
   ],
   "source": [
    "print(train.shape)\n",
    "print(test.shape)"
   ]
  },
  {
   "cell_type": "code",
   "execution_count": 57,
   "metadata": {},
   "outputs": [],
   "source": [
    "timeStep = 5\n",
    "dataX = []\n",
    "dataY = []\n",
    "for i in range(timeStep,len(train) - 5 - 1):\n",
    "    dataX.append(train[i-timeStep:i,0])\n",
    "    dataY.append(train[i,0])\n",
    "    \n",
    "dataX, dataY = np.array(dataX), np.array(dataY)"
   ]
  },
  {
   "cell_type": "code",
   "execution_count": 58,
   "metadata": {},
   "outputs": [
    {
     "data": {
      "text/plain": [
       "(89, 5)"
      ]
     },
     "execution_count": 58,
     "metadata": {},
     "output_type": "execute_result"
    }
   ],
   "source": [
    "dataX.shape"
   ]
  },
  {
   "cell_type": "code",
   "execution_count": 59,
   "metadata": {},
   "outputs": [
    {
     "data": {
      "text/plain": [
       "(89,)"
      ]
     },
     "execution_count": 59,
     "metadata": {},
     "output_type": "execute_result"
    }
   ],
   "source": [
    "dataY.shape"
   ]
  },
  {
   "cell_type": "code",
   "execution_count": 60,
   "metadata": {},
   "outputs": [
    {
     "data": {
      "text/plain": [
       "array([[0.01544402, 0.02702703, 0.05405405, 0.04826255, 0.03281853],\n",
       "       [0.02702703, 0.05405405, 0.04826255, 0.03281853, 0.05984556],\n",
       "       [0.05405405, 0.04826255, 0.03281853, 0.05984556, 0.08494208],\n",
       "       [0.04826255, 0.03281853, 0.05984556, 0.08494208, 0.08494208],\n",
       "       [0.03281853, 0.05984556, 0.08494208, 0.08494208, 0.06177606],\n",
       "       [0.05984556, 0.08494208, 0.08494208, 0.06177606, 0.02895753],\n",
       "       [0.08494208, 0.08494208, 0.06177606, 0.02895753, 0.        ],\n",
       "       [0.08494208, 0.06177606, 0.02895753, 0.        , 0.02702703],\n",
       "       [0.06177606, 0.02895753, 0.        , 0.02702703, 0.02123552],\n",
       "       [0.02895753, 0.        , 0.02702703, 0.02123552, 0.04247104],\n",
       "       [0.        , 0.02702703, 0.02123552, 0.04247104, 0.07142857],\n",
       "       [0.02702703, 0.02123552, 0.04247104, 0.07142857, 0.05984556],\n",
       "       [0.02123552, 0.04247104, 0.07142857, 0.05984556, 0.04054054],\n",
       "       [0.04247104, 0.07142857, 0.05984556, 0.04054054, 0.08687259],\n",
       "       [0.07142857, 0.05984556, 0.04054054, 0.08687259, 0.12741313],\n",
       "       [0.05984556, 0.04054054, 0.08687259, 0.12741313, 0.12741313],\n",
       "       [0.04054054, 0.08687259, 0.12741313, 0.12741313, 0.1042471 ],\n",
       "       [0.08687259, 0.12741313, 0.12741313, 0.1042471 , 0.05598456],\n",
       "       [0.12741313, 0.12741313, 0.1042471 , 0.05598456, 0.01930502],\n",
       "       [0.12741313, 0.1042471 , 0.05598456, 0.01930502, 0.06949807],\n",
       "       [0.1042471 , 0.05598456, 0.01930502, 0.06949807, 0.07915058],\n",
       "       [0.05598456, 0.01930502, 0.06949807, 0.07915058, 0.08880309],\n",
       "       [0.01930502, 0.06949807, 0.07915058, 0.08880309, 0.14285714],\n",
       "       [0.06949807, 0.07915058, 0.08880309, 0.14285714, 0.11389961],\n",
       "       [0.07915058, 0.08880309, 0.14285714, 0.11389961, 0.13127413],\n",
       "       [0.08880309, 0.14285714, 0.11389961, 0.13127413, 0.14285714],\n",
       "       [0.14285714, 0.11389961, 0.13127413, 0.14285714, 0.18339768],\n",
       "       [0.11389961, 0.13127413, 0.14285714, 0.18339768, 0.18339768],\n",
       "       [0.13127413, 0.14285714, 0.18339768, 0.18339768, 0.15444015],\n",
       "       [0.14285714, 0.18339768, 0.18339768, 0.15444015, 0.11196911],\n",
       "       [0.18339768, 0.18339768, 0.15444015, 0.11196911, 0.08108108],\n",
       "       [0.18339768, 0.15444015, 0.11196911, 0.08108108, 0.11969112],\n",
       "       [0.15444015, 0.11196911, 0.08108108, 0.11969112, 0.12934363],\n",
       "       [0.11196911, 0.08108108, 0.11969112, 0.12934363, 0.14671815],\n",
       "       [0.08108108, 0.11969112, 0.12934363, 0.14671815, 0.17181467],\n",
       "       [0.11969112, 0.12934363, 0.14671815, 0.17181467, 0.14864865],\n",
       "       [0.12934363, 0.14671815, 0.17181467, 0.14864865, 0.15250965],\n",
       "       [0.14671815, 0.17181467, 0.14864865, 0.15250965, 0.22007722],\n",
       "       [0.17181467, 0.14864865, 0.15250965, 0.22007722, 0.24324324],\n",
       "       [0.14864865, 0.15250965, 0.22007722, 0.24324324, 0.26640927],\n",
       "       [0.15250965, 0.22007722, 0.24324324, 0.26640927, 0.2027027 ],\n",
       "       [0.22007722, 0.24324324, 0.26640927, 0.2027027 , 0.16795367],\n",
       "       [0.24324324, 0.26640927, 0.2027027 , 0.16795367, 0.13127413],\n",
       "       [0.26640927, 0.2027027 , 0.16795367, 0.13127413, 0.17374517],\n",
       "       [0.2027027 , 0.16795367, 0.13127413, 0.17374517, 0.17760618],\n",
       "       [0.16795367, 0.13127413, 0.17374517, 0.17760618, 0.17760618],\n",
       "       [0.13127413, 0.17374517, 0.17760618, 0.17760618, 0.25482625],\n",
       "       [0.17374517, 0.17760618, 0.17760618, 0.25482625, 0.25289575],\n",
       "       [0.17760618, 0.17760618, 0.25482625, 0.25289575, 0.24131274],\n",
       "       [0.17760618, 0.25482625, 0.25289575, 0.24131274, 0.26833977],\n",
       "       [0.25482625, 0.25289575, 0.24131274, 0.26833977, 0.30888031],\n",
       "       [0.25289575, 0.24131274, 0.26833977, 0.30888031, 0.32432432],\n",
       "       [0.24131274, 0.26833977, 0.30888031, 0.32432432, 0.25675676],\n",
       "       [0.26833977, 0.30888031, 0.32432432, 0.25675676, 0.20656371],\n",
       "       [0.30888031, 0.32432432, 0.25675676, 0.20656371, 0.14671815],\n",
       "       [0.32432432, 0.25675676, 0.20656371, 0.14671815, 0.18725869],\n",
       "       [0.25675676, 0.20656371, 0.14671815, 0.18725869, 0.19305019],\n",
       "       [0.20656371, 0.14671815, 0.18725869, 0.19305019, 0.16216216],\n",
       "       [0.14671815, 0.18725869, 0.19305019, 0.16216216, 0.25289575],\n",
       "       [0.18725869, 0.19305019, 0.16216216, 0.25289575, 0.23745174],\n",
       "       [0.19305019, 0.16216216, 0.25289575, 0.23745174, 0.25096525],\n",
       "       [0.16216216, 0.25289575, 0.23745174, 0.25096525, 0.30888031],\n",
       "       [0.25289575, 0.23745174, 0.25096525, 0.30888031, 0.38223938],\n",
       "       [0.23745174, 0.25096525, 0.30888031, 0.38223938, 0.36486486],\n",
       "       [0.25096525, 0.30888031, 0.38223938, 0.36486486, 0.2992278 ],\n",
       "       [0.30888031, 0.38223938, 0.36486486, 0.2992278 , 0.24131274],\n",
       "       [0.38223938, 0.36486486, 0.2992278 , 0.24131274, 0.19111969],\n",
       "       [0.36486486, 0.2992278 , 0.24131274, 0.19111969, 0.24131274],\n",
       "       [0.2992278 , 0.24131274, 0.19111969, 0.24131274, 0.26640927],\n",
       "       [0.24131274, 0.19111969, 0.24131274, 0.26640927, 0.24903475],\n",
       "       [0.19111969, 0.24131274, 0.26640927, 0.24903475, 0.31467181],\n",
       "       [0.24131274, 0.26640927, 0.24903475, 0.31467181, 0.31853282],\n",
       "       [0.26640927, 0.24903475, 0.31467181, 0.31853282, 0.32046332],\n",
       "       [0.24903475, 0.31467181, 0.31853282, 0.32046332, 0.40733591],\n",
       "       [0.31467181, 0.31853282, 0.32046332, 0.40733591, 0.5019305 ],\n",
       "       [0.31853282, 0.32046332, 0.40733591, 0.5019305 , 0.46911197],\n",
       "       [0.32046332, 0.40733591, 0.5019305 , 0.46911197, 0.4015444 ],\n",
       "       [0.40733591, 0.5019305 , 0.46911197, 0.4015444 , 0.32818533],\n",
       "       [0.5019305 , 0.46911197, 0.4015444 , 0.32818533, 0.25675676],\n",
       "       [0.46911197, 0.4015444 , 0.32818533, 0.25675676, 0.33590734],\n",
       "       [0.4015444 , 0.32818533, 0.25675676, 0.33590734, 0.34749035],\n",
       "       [0.32818533, 0.25675676, 0.33590734, 0.34749035, 0.33397683],\n",
       "       [0.25675676, 0.33590734, 0.34749035, 0.33397683, 0.41119691],\n",
       "       [0.33590734, 0.34749035, 0.33397683, 0.41119691, 0.4034749 ],\n",
       "       [0.34749035, 0.33397683, 0.41119691, 0.4034749 , 0.41312741],\n",
       "       [0.33397683, 0.41119691, 0.4034749 , 0.41312741, 0.52123552],\n",
       "       [0.41119691, 0.4034749 , 0.41312741, 0.52123552, 0.5965251 ],\n",
       "       [0.4034749 , 0.41312741, 0.52123552, 0.5965251 , 0.58108108],\n",
       "       [0.41312741, 0.52123552, 0.5965251 , 0.58108108, 0.48455598]])"
      ]
     },
     "execution_count": 60,
     "metadata": {},
     "output_type": "execute_result"
    }
   ],
   "source": [
    "dataX"
   ]
  },
  {
   "cell_type": "code",
   "execution_count": 61,
   "metadata": {},
   "outputs": [
    {
     "data": {
      "text/plain": [
       "array([0.05984556, 0.08494208, 0.08494208, 0.06177606, 0.02895753,\n",
       "       0.        , 0.02702703, 0.02123552, 0.04247104, 0.07142857,\n",
       "       0.05984556, 0.04054054, 0.08687259, 0.12741313, 0.12741313,\n",
       "       0.1042471 , 0.05598456, 0.01930502, 0.06949807, 0.07915058,\n",
       "       0.08880309, 0.14285714, 0.11389961, 0.13127413, 0.14285714,\n",
       "       0.18339768, 0.18339768, 0.15444015, 0.11196911, 0.08108108,\n",
       "       0.11969112, 0.12934363, 0.14671815, 0.17181467, 0.14864865,\n",
       "       0.15250965, 0.22007722, 0.24324324, 0.26640927, 0.2027027 ,\n",
       "       0.16795367, 0.13127413, 0.17374517, 0.17760618, 0.17760618,\n",
       "       0.25482625, 0.25289575, 0.24131274, 0.26833977, 0.30888031,\n",
       "       0.32432432, 0.25675676, 0.20656371, 0.14671815, 0.18725869,\n",
       "       0.19305019, 0.16216216, 0.25289575, 0.23745174, 0.25096525,\n",
       "       0.30888031, 0.38223938, 0.36486486, 0.2992278 , 0.24131274,\n",
       "       0.19111969, 0.24131274, 0.26640927, 0.24903475, 0.31467181,\n",
       "       0.31853282, 0.32046332, 0.40733591, 0.5019305 , 0.46911197,\n",
       "       0.4015444 , 0.32818533, 0.25675676, 0.33590734, 0.34749035,\n",
       "       0.33397683, 0.41119691, 0.4034749 , 0.41312741, 0.52123552,\n",
       "       0.5965251 , 0.58108108, 0.48455598, 0.38996139])"
      ]
     },
     "execution_count": 61,
     "metadata": {},
     "output_type": "execute_result"
    }
   ],
   "source": [
    "dataY"
   ]
  },
  {
   "cell_type": "code",
   "execution_count": 62,
   "metadata": {},
   "outputs": [],
   "source": [
    "dataX = np.reshape(dataX,(dataX.shape[0],dataX.shape[1],1))\n",
    "dataY = np.reshape(dataY,(dataY.shape[0],1))"
   ]
  },
  {
   "cell_type": "code",
   "execution_count": 63,
   "metadata": {},
   "outputs": [
    {
     "data": {
      "text/plain": [
       "(89, 5, 1)"
      ]
     },
     "execution_count": 63,
     "metadata": {},
     "output_type": "execute_result"
    }
   ],
   "source": [
    "dataX.shape"
   ]
  },
  {
   "cell_type": "code",
   "execution_count": 64,
   "metadata": {},
   "outputs": [
    {
     "data": {
      "text/plain": [
       "(89, 1)"
      ]
     },
     "execution_count": 64,
     "metadata": {},
     "output_type": "execute_result"
    }
   ],
   "source": [
    "dataY.shape"
   ]
  },
  {
   "cell_type": "code",
   "execution_count": 65,
   "metadata": {},
   "outputs": [],
   "source": [
    "Xtrain = dataX\n",
    "Ytrain = dataY"
   ]
  },
  {
   "cell_type": "code",
   "execution_count": 66,
   "metadata": {},
   "outputs": [
    {
     "name": "stdout",
     "output_type": "stream",
     "text": [
      "Epoch 1/100\n",
      "3/3 [==============================] - 13s 33ms/step - loss: 0.0583\n",
      "Epoch 2/100\n",
      "3/3 [==============================] - 0s 25ms/step - loss: 0.0353\n",
      "Epoch 3/100\n",
      "3/3 [==============================] - 0s 22ms/step - loss: 0.0153\n",
      "Epoch 4/100\n",
      "3/3 [==============================] - 0s 22ms/step - loss: 0.0180\n",
      "Epoch 5/100\n",
      "3/3 [==============================] - 0s 23ms/step - loss: 0.0151\n",
      "Epoch 6/100\n",
      "3/3 [==============================] - 0s 27ms/step - loss: 0.0120\n",
      "Epoch 7/100\n",
      "3/3 [==============================] - 0s 24ms/step - loss: 0.0148\n",
      "Epoch 8/100\n",
      "3/3 [==============================] - 0s 30ms/step - loss: 0.0122\n",
      "Epoch 9/100\n",
      "3/3 [==============================] - 0s 20ms/step - loss: 0.0098\n",
      "Epoch 10/100\n",
      "3/3 [==============================] - 0s 27ms/step - loss: 0.0092\n",
      "Epoch 11/100\n",
      "3/3 [==============================] - 0s 19ms/step - loss: 0.0086\n",
      "Epoch 12/100\n",
      "3/3 [==============================] - 0s 21ms/step - loss: 0.0073\n",
      "Epoch 13/100\n",
      "3/3 [==============================] - 0s 28ms/step - loss: 0.0075\n",
      "Epoch 14/100\n",
      "3/3 [==============================] - 0s 27ms/step - loss: 0.0066\n",
      "Epoch 15/100\n",
      "3/3 [==============================] - 0s 24ms/step - loss: 0.0078\n",
      "Epoch 16/100\n",
      "3/3 [==============================] - 0s 27ms/step - loss: 0.0076\n",
      "Epoch 17/100\n",
      "3/3 [==============================] - 0s 22ms/step - loss: 0.0081\n",
      "Epoch 18/100\n",
      "3/3 [==============================] - 0s 23ms/step - loss: 0.0072\n",
      "Epoch 19/100\n",
      "3/3 [==============================] - 0s 21ms/step - loss: 0.0073\n",
      "Epoch 20/100\n",
      "3/3 [==============================] - 0s 21ms/step - loss: 0.0064\n",
      "Epoch 21/100\n",
      "3/3 [==============================] - 0s 23ms/step - loss: 0.0068\n",
      "Epoch 22/100\n",
      "3/3 [==============================] - 0s 23ms/step - loss: 0.0060\n",
      "Epoch 23/100\n",
      "3/3 [==============================] - 0s 22ms/step - loss: 0.0076\n",
      "Epoch 24/100\n",
      "3/3 [==============================] - 0s 22ms/step - loss: 0.0069\n",
      "Epoch 25/100\n",
      "3/3 [==============================] - 0s 34ms/step - loss: 0.0061\n",
      "Epoch 26/100\n",
      "3/3 [==============================] - 0s 20ms/step - loss: 0.0071\n",
      "Epoch 27/100\n",
      "3/3 [==============================] - 0s 24ms/step - loss: 0.0074\n",
      "Epoch 28/100\n",
      "3/3 [==============================] - 0s 21ms/step - loss: 0.0064\n",
      "Epoch 29/100\n",
      "3/3 [==============================] - 0s 23ms/step - loss: 0.0069\n",
      "Epoch 30/100\n",
      "3/3 [==============================] - 0s 22ms/step - loss: 0.0068\n",
      "Epoch 31/100\n",
      "3/3 [==============================] - 0s 21ms/step - loss: 0.0054\n",
      "Epoch 32/100\n",
      "3/3 [==============================] - 0s 22ms/step - loss: 0.0054\n",
      "Epoch 33/100\n",
      "3/3 [==============================] - 0s 21ms/step - loss: 0.0056\n",
      "Epoch 34/100\n",
      "3/3 [==============================] - 0s 22ms/step - loss: 0.0059\n",
      "Epoch 35/100\n",
      "3/3 [==============================] - 0s 21ms/step - loss: 0.0063\n",
      "Epoch 36/100\n",
      "3/3 [==============================] - 0s 19ms/step - loss: 0.0060\n",
      "Epoch 37/100\n",
      "3/3 [==============================] - 0s 23ms/step - loss: 0.0066\n",
      "Epoch 38/100\n",
      "3/3 [==============================] - 0s 33ms/step - loss: 0.0073\n",
      "Epoch 39/100\n",
      "3/3 [==============================] - 0s 31ms/step - loss: 0.0055\n",
      "Epoch 40/100\n",
      "3/3 [==============================] - 0s 23ms/step - loss: 0.0057\n",
      "Epoch 41/100\n",
      "3/3 [==============================] - 0s 22ms/step - loss: 0.0063\n",
      "Epoch 42/100\n",
      "3/3 [==============================] - 0s 20ms/step - loss: 0.0077\n",
      "Epoch 43/100\n",
      "3/3 [==============================] - 0s 25ms/step - loss: 0.0061\n",
      "Epoch 44/100\n",
      "3/3 [==============================] - 0s 24ms/step - loss: 0.0056\n",
      "Epoch 45/100\n",
      "3/3 [==============================] - 0s 22ms/step - loss: 0.0077\n",
      "Epoch 46/100\n",
      "3/3 [==============================] - 0s 22ms/step - loss: 0.0058\n",
      "Epoch 47/100\n",
      "3/3 [==============================] - 0s 20ms/step - loss: 0.0077\n",
      "Epoch 48/100\n",
      "3/3 [==============================] - 0s 22ms/step - loss: 0.0064\n",
      "Epoch 49/100\n",
      "3/3 [==============================] - 0s 22ms/step - loss: 0.0066\n",
      "Epoch 50/100\n",
      "3/3 [==============================] - 0s 23ms/step - loss: 0.0059\n",
      "Epoch 51/100\n",
      "3/3 [==============================] - 0s 23ms/step - loss: 0.0064\n",
      "Epoch 52/100\n",
      "3/3 [==============================] - 0s 22ms/step - loss: 0.0076\n",
      "Epoch 53/100\n",
      "3/3 [==============================] - 0s 21ms/step - loss: 0.0072\n",
      "Epoch 54/100\n",
      "3/3 [==============================] - 0s 23ms/step - loss: 0.0053\n",
      "Epoch 55/100\n",
      "3/3 [==============================] - 0s 23ms/step - loss: 0.0067\n",
      "Epoch 56/100\n",
      "3/3 [==============================] - 0s 20ms/step - loss: 0.0054\n",
      "Epoch 57/100\n",
      "3/3 [==============================] - 0s 21ms/step - loss: 0.0064\n",
      "Epoch 58/100\n",
      "3/3 [==============================] - 0s 19ms/step - loss: 0.0061\n",
      "Epoch 59/100\n",
      "3/3 [==============================] - 0s 20ms/step - loss: 0.0067\n",
      "Epoch 60/100\n",
      "3/3 [==============================] - 0s 20ms/step - loss: 0.0053\n",
      "Epoch 61/100\n",
      "3/3 [==============================] - 0s 20ms/step - loss: 0.0085\n",
      "Epoch 62/100\n",
      "3/3 [==============================] - 0s 22ms/step - loss: 0.0064\n",
      "Epoch 63/100\n",
      "3/3 [==============================] - 0s 17ms/step - loss: 0.0061\n",
      "Epoch 64/100\n",
      "3/3 [==============================] - 0s 20ms/step - loss: 0.0069\n",
      "Epoch 65/100\n",
      "3/3 [==============================] - 0s 20ms/step - loss: 0.0065\n",
      "Epoch 66/100\n",
      "3/3 [==============================] - 0s 19ms/step - loss: 0.0074\n",
      "Epoch 67/100\n",
      "3/3 [==============================] - 0s 21ms/step - loss: 0.0056\n",
      "Epoch 68/100\n",
      "3/3 [==============================] - 0s 19ms/step - loss: 0.0066\n",
      "Epoch 69/100\n",
      "3/3 [==============================] - 0s 19ms/step - loss: 0.0058\n",
      "Epoch 70/100\n",
      "3/3 [==============================] - 0s 28ms/step - loss: 0.0053\n",
      "Epoch 71/100\n",
      "3/3 [==============================] - 0s 19ms/step - loss: 0.0063\n",
      "Epoch 72/100\n",
      "3/3 [==============================] - 0s 22ms/step - loss: 0.0056\n",
      "Epoch 73/100\n",
      "3/3 [==============================] - 0s 18ms/step - loss: 0.0060\n",
      "Epoch 74/100\n",
      "3/3 [==============================] - 0s 22ms/step - loss: 0.0052\n",
      "Epoch 75/100\n",
      "3/3 [==============================] - 0s 20ms/step - loss: 0.0054\n",
      "Epoch 76/100\n",
      "3/3 [==============================] - 0s 23ms/step - loss: 0.0060\n",
      "Epoch 77/100\n",
      "3/3 [==============================] - 0s 25ms/step - loss: 0.0058\n",
      "Epoch 78/100\n",
      "3/3 [==============================] - 0s 19ms/step - loss: 0.0052\n",
      "Epoch 79/100\n",
      "3/3 [==============================] - 0s 22ms/step - loss: 0.0057\n",
      "Epoch 80/100\n",
      "3/3 [==============================] - 0s 22ms/step - loss: 0.0054\n",
      "Epoch 81/100\n",
      "3/3 [==============================] - 0s 20ms/step - loss: 0.0053\n",
      "Epoch 82/100\n",
      "3/3 [==============================] - 0s 19ms/step - loss: 0.0064\n",
      "Epoch 83/100\n",
      "3/3 [==============================] - 0s 19ms/step - loss: 0.0076\n",
      "Epoch 84/100\n",
      "3/3 [==============================] - 0s 19ms/step - loss: 0.0052\n",
      "Epoch 85/100\n",
      "3/3 [==============================] - 0s 19ms/step - loss: 0.0052\n",
      "Epoch 86/100\n",
      "3/3 [==============================] - 0s 21ms/step - loss: 0.0065\n",
      "Epoch 87/100\n",
      "3/3 [==============================] - 0s 26ms/step - loss: 0.0048\n",
      "Epoch 88/100\n",
      "3/3 [==============================] - 0s 21ms/step - loss: 0.0065\n",
      "Epoch 89/100\n",
      "3/3 [==============================] - 0s 18ms/step - loss: 0.0058\n",
      "Epoch 90/100\n",
      "3/3 [==============================] - 0s 19ms/step - loss: 0.0061\n",
      "Epoch 91/100\n",
      "3/3 [==============================] - 0s 19ms/step - loss: 0.0048\n",
      "Epoch 92/100\n",
      "3/3 [==============================] - 0s 19ms/step - loss: 0.0061\n",
      "Epoch 93/100\n",
      "3/3 [==============================] - 0s 18ms/step - loss: 0.0051\n",
      "Epoch 94/100\n",
      "3/3 [==============================] - 0s 21ms/step - loss: 0.0060\n",
      "Epoch 95/100\n",
      "3/3 [==============================] - 0s 23ms/step - loss: 0.0051\n",
      "Epoch 96/100\n",
      "3/3 [==============================] - 0s 21ms/step - loss: 0.0046\n",
      "Epoch 97/100\n",
      "3/3 [==============================] - 0s 21ms/step - loss: 0.0054\n",
      "Epoch 98/100\n",
      "3/3 [==============================] - 0s 22ms/step - loss: 0.0057\n",
      "Epoch 99/100\n",
      "3/3 [==============================] - 0s 20ms/step - loss: 0.0045\n",
      "Epoch 100/100\n",
      "3/3 [==============================] - 0s 19ms/step - loss: 0.0054\n"
     ]
    },
    {
     "data": {
      "text/plain": [
       "<tensorflow.python.keras.callbacks.History at 0x14acf79a0a0>"
      ]
     },
     "execution_count": 66,
     "metadata": {},
     "output_type": "execute_result"
    }
   ],
   "source": [
    "model = Sequential()\n",
    "model.add(LSTM(50,return_sequences=True,input_shape=(Xtrain.shape[1],Xtrain.shape[2])))\n",
    "model.add(Dropout(0.2))\n",
    "          \n",
    "model.add(LSTM(100,return_sequences=True))\n",
    "model.add(Dropout(0.4))\n",
    "          \n",
    "model.add(LSTM(150))\n",
    "model.add(Dropout(0.5))\n",
    "          \n",
    "model.add(Dense(1))\n",
    "model.compile(loss='mse',optimizer='adam')\n",
    "model.fit(Xtrain,Ytrain,epochs=100,batch_size=32)"
   ]
  },
  {
   "cell_type": "code",
   "execution_count": 67,
   "metadata": {},
   "outputs": [],
   "source": [
    "timeStep = 5\n",
    "X_test = []\n",
    "Y_test = []\n",
    "for i in range(timeStep,len(test) - 5 - 1):\n",
    "    X_test.append(test[i-timeStep:i,0])\n",
    "    Y_test.append(test[i,0])\n",
    "    \n",
    "X_test, Y_test = np.array(X_test), np.array(Y_test)"
   ]
  },
  {
   "cell_type": "code",
   "execution_count": 69,
   "metadata": {},
   "outputs": [],
   "source": [
    "X_test = np.reshape(X_test,(X_test.shape[0],X_test.shape[1],1))\n",
    "Y_test = np.reshape(Y_test,(Y_test.shape[0],1))"
   ]
  },
  {
   "cell_type": "code",
   "execution_count": null,
   "metadata": {},
   "outputs": [],
   "source": []
  },
  {
   "cell_type": "code",
   "execution_count": 70,
   "metadata": {},
   "outputs": [],
   "source": [
    "y_pred = model.predict(X_test)"
   ]
  },
  {
   "cell_type": "code",
   "execution_count": 71,
   "metadata": {},
   "outputs": [],
   "source": [
    "y_pred = scalar.inverse_transform(y_pred)"
   ]
  },
  {
   "cell_type": "code",
   "execution_count": 72,
   "metadata": {},
   "outputs": [
    {
     "data": {
      "text/plain": [
       "array([[420.07568],\n",
       "       [416.2278 ],\n",
       "       [392.63483],\n",
       "       [366.04733],\n",
       "       [345.34137],\n",
       "       [334.21024],\n",
       "       [336.21988],\n",
       "       [343.8333 ],\n",
       "       [348.9204 ],\n",
       "       [363.62912],\n",
       "       [392.35468],\n",
       "       [421.02982],\n",
       "       [435.71915],\n",
       "       [430.9472 ],\n",
       "       [405.04385],\n",
       "       [374.50375],\n",
       "       [351.47238],\n",
       "       [344.3651 ],\n",
       "       [352.278  ],\n",
       "       [368.22083],\n",
       "       [382.75473],\n",
       "       [401.35382],\n",
       "       [433.06064],\n",
       "       [462.1513 ],\n",
       "       [477.11804],\n",
       "       [471.44934],\n",
       "       [447.35855],\n",
       "       [419.7596 ],\n",
       "       [399.8675 ],\n",
       "       [392.69373],\n",
       "       [395.33493],\n",
       "       [408.74512],\n",
       "       [421.2063 ]], dtype=float32)"
      ]
     },
     "execution_count": 72,
     "metadata": {},
     "output_type": "execute_result"
    }
   ],
   "source": [
    "y_pred"
   ]
  },
  {
   "cell_type": "code",
   "execution_count": 73,
   "metadata": {},
   "outputs": [],
   "source": [
    "Y_test = scalar.inverse_transform(Y_test)"
   ]
  },
  {
   "cell_type": "code",
   "execution_count": 74,
   "metadata": {},
   "outputs": [
    {
     "data": {
      "text/plain": [
       "array([[347.],\n",
       "       [305.],\n",
       "       [336.],\n",
       "       [340.],\n",
       "       [318.],\n",
       "       [362.],\n",
       "       [348.],\n",
       "       [363.],\n",
       "       [435.],\n",
       "       [491.],\n",
       "       [505.],\n",
       "       [404.],\n",
       "       [359.],\n",
       "       [310.],\n",
       "       [337.],\n",
       "       [360.],\n",
       "       [342.],\n",
       "       [406.],\n",
       "       [396.],\n",
       "       [420.],\n",
       "       [472.],\n",
       "       [548.],\n",
       "       [559.],\n",
       "       [463.],\n",
       "       [407.],\n",
       "       [362.],\n",
       "       [405.],\n",
       "       [417.],\n",
       "       [391.],\n",
       "       [419.],\n",
       "       [461.],\n",
       "       [472.],\n",
       "       [535.]])"
      ]
     },
     "execution_count": 74,
     "metadata": {},
     "output_type": "execute_result"
    }
   ],
   "source": [
    "Y_test"
   ]
  },
  {
   "cell_type": "code",
   "execution_count": 75,
   "metadata": {},
   "outputs": [
    {
     "data": {
      "image/png": "[encoded data removed]",
      "text/plain": [
       "<Figure size 432x288 with 1 Axes>"
      ]
     },
     "metadata": {
      "needs_background": "light"
     },
     "output_type": "display_data"
    }
   ],
   "source": [
    "plt.plot(y_pred,color='blue')\n",
    "plt.plot(Y_test,color='red')\n",
    "plt.show()"
   ]
  },
  {
   "cell_type": "code",
   "execution_count": null,
   "metadata": {},
   "outputs": [],
   "source": []
  }
 ],
 "metadata": {
  "kernelspec": {
   "display_name": "Python 3",
   "language": "python",
   "name": "python3"
  },
  "language_info": {
   "codemirror_mode": {
    "name": "ipython",
    "version": 3
   },
   "file_extension": ".py",
   "mimetype": "text/x-python",
   "name": "python",
   "nbconvert_exporter": "python",
   "pygments_lexer": "ipython3",
   "version": "3.8.5"
  }
 },
 "nbformat": 4,
 "nbformat_minor": 4
}
